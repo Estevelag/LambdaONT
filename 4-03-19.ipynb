{
 "cells": [
  {
   "cell_type": "markdown",
   "metadata": {},
   "source": [
    "# 4 - Mar - 2019\n",
    "## Session: Third generation data assembly\n",
    "### By Luis AF. "
   ]
  },
  {
   "cell_type": "markdown",
   "metadata": {},
   "source": [
    "#### Stolen slides:\n",
    "https://www.slideshare.net/agbiotec/overview-of-genome-assembly-algorithms"
   ]
  },
  {
   "cell_type": "markdown",
   "metadata": {},
   "source": [
    "# De Brujin Graphs."
   ]
  },
  {
   "cell_type": "markdown",
   "metadata": {},
   "source": [
    "## Minisuite"
   ]
  },
  {
   "cell_type": "code",
   "execution_count": 8,
   "metadata": {
    "scrolled": true
   },
   "outputs": [
    {
     "name": "stdout",
     "output_type": "stream",
     "text": [
      "[M::mm_idx_gen::1.721*1.33] collected minimizers\n",
      "[M::mm_idx_gen::2.339*1.77] sorted minimizers\n",
      "[M::main::2.339*1.77] loaded/built the index for 16332 target sequence(s)\n",
      "[M::mm_mapopt_update::2.486*1.72] mid_occ = 493\n",
      "[M::mm_idx_stat] kmer size: 15; skip: 5; is_hpc: 0; #seq: 16332\n",
      "[M::mm_idx_stat::2.570*1.70] distinct minimizers: 11951208 (78.43% are singletons); average occurrences: 2.377; average spacing: 2.947\n",
      "[M::worker_pipeline::107.467*2.42] mapped 16332 sequences\n",
      "[M::main] Version: 2.16-r922\n",
      "[M::main] CMD: minimap2 -x ava-ont Lambda.fastq Lambda.fastq\n",
      "[M::main] Real time: 107.492 sec; CPU: 260.000 sec; Peak RSS: 2.293 GB\n",
      "[M::main] ===> Step 1: reading read mappings <===\n",
      "[M::ma_hit_read::13.557*0.87] read 15995233 hits; stored 18830026 hits and 10802 sequences (76770717 bp)\n",
      "[M::main] ===> Step 2: 1-pass (crude) read selection <===\n",
      "[M::ma_hit_sub::15.789*0.89] 10742 query sequences remain after sub\n",
      "[M::ma_hit_cut::15.981*0.89] 18799858 hits remain after cut\n",
      "[M::ma_hit_flt::16.217*0.89] 18513155 hits remain after filtering; crude coverage after filtering: 1251.78\n",
      "[M::main] ===> Step 3: 2-pass (fine) read selection <===\n",
      "[M::ma_hit_sub::17.358*0.90] 10735 query sequences remain after sub\n",
      "[M::ma_hit_cut::17.539*0.90] 18512485 hits remain after cut\n",
      "[M::ma_hit_contained::17.810*0.90] 13 sequences and 104 hits remain after containment removal\n",
      "[M::main] ===> Step 4: graph cleaning <===\n",
      "[M::ma_sg_gen] read 96 arcs\n",
      "[M::main] ===> Step 4.1: transitive reduction <===\n",
      "[M::asg_arc_del_trans] transitively reduced 67 arcs\n",
      "[M::asg_arc_del_multi] removed 0 multi-arcs\n",
      "[M::asg_arc_del_asymm] removed 5 asymmetric arcs\n",
      "[M::main] ===> Step 4.2: initial tip cutting and bubble popping <===\n",
      "[M::asg_cut_tip] cut 3 tips\n",
      "[M::asg_pop_bubble] popped 0 bubbles and trimmed 0 tips\n",
      "[M::main] ===> Step 4.3: cutting short overlaps (3 rounds in total) <===\n",
      "[M::asg_arc_del_short] removed 0 short overlaps\n",
      "[M::asg_arc_del_short] removed 0 short overlaps\n",
      "[M::asg_arc_del_short] removed 0 short overlaps\n",
      "[M::main] ===> Step 4.4: removing short internal sequences and bi-loops <===\n",
      "[M::asg_cut_internal] cut 0 internal sequences\n",
      "[M::asg_cut_biloop] cut 0 small bi-loops\n",
      "[M::asg_cut_tip] cut 0 tips\n",
      "[M::asg_pop_bubble] popped 0 bubbles and trimmed 0 tips\n",
      "[M::main] ===> Step 4.5: aggressively cutting short overlaps <===\n",
      "[M::asg_arc_del_short] removed 0 short overlaps\n",
      "[M::main] ===> Step 5: generating unitigs <===\n",
      "[M::main] Version: 0.3-r179\n",
      "[M::main] CMD: miniasm -f Lambda.fastq Lambda.paf\n",
      "[M::main] Real time: 17.943 sec; CPU: 16.192 sec\n"
     ]
    }
   ],
   "source": [
    "!minimap2 -x ava-ont Lambda.fastq Lambda.fastq > Lambda.paf\n",
    "!miniasm -f Lambda.fastq Lambda.paf > Lambda.gfa\n",
    "!awk '/^S/{print \">\"$2\"\\n\"$3}' Lambda.gfa | fold > Lambda-minimap2.fa"
   ]
  },
  {
   "cell_type": "markdown",
   "metadata": {},
   "source": [
    "## wtbg2"
   ]
  },
  {
   "cell_type": "code",
   "execution_count": 14,
   "metadata": {},
   "outputs": [
    {
     "name": "stdout",
     "output_type": "stream",
     "text": [
      "--\n",
      "-- total memory       16350888.0 kB\n",
      "-- available           7251352.0 kB\n",
      "-- 8 cores\n",
      "-- Starting program: wtdbg2 -x rs -g 48k -i Lambda.fastq -t4 -fo prefix\n",
      "-- pid                     26444\n",
      "-- date         Mon Mar  4 13:10:43 2019\n",
      "--\n",
      "[Mon Mar  4 13:10:43 2019] loading reads\n",
      "5605 reads\n",
      "[Mon Mar  4 13:10:43 2019] filtering from 5605 reads (>=5000 bp), 59268629 bp. Try selecting 2400000 bp\n",
      "[Mon Mar  4 13:10:43 2019] Done, 60 reads (>=5000 bp), 2427904 bp, 9354 bins\n",
      "** PROC_STAT(0) **: real 0.101 sec, user 0.070 sec, sys 0.030 sec, maxrss 52404.0 kB, maxvsize 210084.0 kB\n",
      "[Mon Mar  4 13:10:43 2019] Set --edge-cov to 3\n",
      "KEY PARAMETERS: -k 0 -p 21 -K 1000.049988 -S 4.000000 -s 0.050000 -g 48000 -X 50.000000 -e 3 -L 5000\n",
      "[Mon Mar  4 13:10:43 2019] generating nodes, 4 threads\n",
      "[Mon Mar  4 13:10:43 2019] indexing bins[0,9354] (2394624 bp), 4 threads\n",
      "[Mon Mar  4 13:10:43 2019] - scanning kmers (K0P21S4.00) from 9354 bins\n",
      "9354 bins\n",
      "********************** Kmer Frequency **********************\n",
      "|                                                                                                   \n",
      "|                                                                                                   \n",
      "|                                                                                                   \n",
      "|                                                                                                   \n",
      "|                                                                                                   \n",
      "|                                                                                                   \n",
      "|                                                                                                   \n",
      "|                                                                                                   \n",
      "|                                                                                                   \n",
      "|                                                                                                   \n",
      "|                                                                                                   \n",
      "|                                                                                                   \n",
      "|                                                                                                   \n",
      "|                                                                                                   \n",
      "|                                                                                                   \n",
      "|                                                                                                   \n",
      "|                                                                                                   \n",
      "|                                                                                                   \n",
      "|                                                                                                   \n",
      "||||||||||||||                                                                                      \n",
      "**********************     1 - 201    **********************\n",
      "Quatiles:\n",
      "   10%   20%   30%   40%   50%   60%   70%   80%   90%   95%\n",
      "     1     1     1     1     1     1     1     2     7    11\n",
      "# If the kmer distribution is not good, please kill me and adjust -k, -p, and -K\n",
      "# Cannot get a good distribution anyway, should adjust -S -s, also -A -e in assembly\n",
      "** PROC_STAT(0) **: real 0.201 sec, user 0.170 sec, sys 0.050 sec, maxrss 70232.0 kB, maxvsize 638284.0 kB\n",
      "[Mon Mar  4 13:10:43 2019] - high frequency kmer depth is set to 1000\n",
      "[Mon Mar  4 13:10:43 2019] - Total kmers = 325513\n",
      "[Mon Mar  4 13:10:43 2019] - average kmer depth = 3\n",
      "[Mon Mar  4 13:10:43 2019] - 298667 low frequency kmers (<2)\n",
      "[Mon Mar  4 13:10:43 2019] - 0 high frequency kmers (>1000)\n",
      "[Mon Mar  4 13:10:43 2019] - indexing 26846 kmers, 105208 instances (at most)\n",
      "9354 bins\n",
      "[Mon Mar  4 13:10:43 2019] - indexed  26846 kmers, 105208 instances\n",
      "[Mon Mar  4 13:10:43 2019] - masked 758 bins as closed\n",
      "[Mon Mar  4 13:10:43 2019] - sorting\n",
      "** PROC_STAT(0) **: real 0.201 sec, user 0.170 sec, sys 0.050 sec, maxrss 70232.0 kB, maxvsize 638284.0 kB\n",
      "[Mon Mar  4 13:10:43 2019] Done\n",
      "60 reads|total hits 1274\n",
      "** PROC_STAT(0) **: real 0.301 sec, user 0.440 sec, sys 0.080 sec, maxrss 93792.0 kB, maxvsize 792576.0 kB\n",
      "[Mon Mar  4 13:10:43 2019] clipping ... 7.58% bases\n",
      "[Mon Mar  4 13:10:43 2019] generating regs ... 40651\n",
      "[Mon Mar  4 13:10:43 2019] sorting regs ...  Done\n",
      "[Mon Mar  4 13:10:43 2019] generating intervals ...  2253 intervals\n",
      "[Mon Mar  4 13:10:43 2019] selecting important intervals from 2253 intervals\n",
      "[Mon Mar  4 13:10:43 2019] Intervals: kept 52, discarded 2201\n",
      "** PROC_STAT(0) **: real 0.301 sec, user 0.440 sec, sys 0.080 sec, maxrss 93792.0 kB, maxvsize 792576.0 kB\n",
      "[Mon Mar  4 13:10:43 2019] Done, 52 nodes\n",
      "[Mon Mar  4 13:10:43 2019] output \"prefix.1.nodes\". Done.\n",
      "[Mon Mar  4 13:10:43 2019] masked 0 high coverage nodes (>200 or <3)\n",
      "[Mon Mar  4 13:10:43 2019] masked 3 repeat-like nodes by local subgraph analysis\n",
      "[Mon Mar  4 13:10:43 2019] generating edges\n",
      "[Mon Mar  4 13:10:43 2019] Done, 1169 edges\n",
      "[Mon Mar  4 13:10:43 2019] output \"prefix.1.reads\". Done.\n",
      "[Mon Mar  4 13:10:43 2019] output \"prefix.1.dot.gz\". Done.\n",
      "[Mon Mar  4 13:10:43 2019] graph clean\n",
      "[Mon Mar  4 13:10:43 2019] rescued 1 low cov edges\n",
      "[Mon Mar  4 13:10:43 2019] deleted 0 binary edges\n",
      "[Mon Mar  4 13:10:43 2019] deleted 3 isolated nodes\n",
      "[Mon Mar  4 13:10:43 2019] cut 36 transitive edges\n",
      "[Mon Mar  4 13:10:43 2019] output \"prefix.2.dot.gz\". Done.\n",
      "[Mon Mar  4 13:10:43 2019] 2 bubbles; 3 tips; 0 yarns;\n",
      "[Mon Mar  4 13:10:43 2019] deleted 1 isolated nodes\n",
      "[Mon Mar  4 13:10:43 2019] output \"prefix.3.dot.gz\". Done.\n",
      "[Mon Mar  4 13:10:43 2019] cut 0 branching nodes\n",
      "[Mon Mar  4 13:10:43 2019] deleted 0 isolated nodes\n",
      "[Mon Mar  4 13:10:43 2019] building unitigs\n",
      "[Mon Mar  4 13:10:43 2019] TOT 53504, CNT 1, AVG 53504, MAX 53504, N50 53504, L50 1, N90 53504, L90 1, Min 53504\n",
      "[Mon Mar  4 13:10:43 2019] output \"prefix.frg.nodes\". Done.\n",
      "[Mon Mar  4 13:10:43 2019] generating links\n",
      "[Mon Mar  4 13:10:43 2019] generated 1 links\n",
      "[Mon Mar  4 13:10:43 2019] output \"prefix.frg.dot.gz\". Done.\n",
      "[Mon Mar  4 13:10:43 2019] rescue 0 weak links\n",
      "[Mon Mar  4 13:10:43 2019] deleted 2 binary links\n",
      "[Mon Mar  4 13:10:43 2019] cut 0 transitive links\n",
      "[Mon Mar  4 13:10:43 2019] remove 0 boomerangs\n",
      "[Mon Mar  4 13:10:43 2019] detached 0 repeat-associated paths\n",
      "[Mon Mar  4 13:10:43 2019] remove 0 weak branches\n",
      "[Mon Mar  4 13:10:43 2019] cut 0 tips\n",
      "[Mon Mar  4 13:10:43 2019] pop 0 bubbles\n",
      "[Mon Mar  4 13:10:43 2019] cut 0 tips\n",
      "[Mon Mar  4 13:10:43 2019] output \"prefix.ctg.dot.gz\". Done.\n",
      "[Mon Mar  4 13:10:43 2019] building contigs\n",
      "[Mon Mar  4 13:10:43 2019] searched 1 contigs\n",
      "[Mon Mar  4 13:10:43 2019] Estimated: TOT 53504, CNT 1, AVG 53504, MAX 53504, N50 53504, L50 1, N90 53504, L90 1, Min 53504\n",
      "[Mon Mar  4 13:10:43 2019] output 1 contigs\n",
      "[Mon Mar  4 13:10:43 2019] Program Done\n",
      "** PROC_STAT(TOTAL) **: real 0.602 sec, user 0.880 sec, sys 0.090 sec, maxrss 96864.0 kB, maxvsize 792576.0 kB\n",
      "---\n",
      "--\n",
      "-- total memory       16350888.0 kB\n",
      "-- available           7248240.0 kB\n",
      "-- 8 cores\n",
      "-- Starting program: wtpoa-cns -t4 -i prefix.ctg.lay.gz -fo prefix.ctg.fa\n",
      "-- pid                     26549\n",
      "-- date         Mon Mar  4 13:10:43 2019\n",
      "--\n",
      "1 contigs 37 edges\n",
      "** PROC_STAT(TOTAL) **: real 1.002 sec, user 3.420 sec, sys 0.070 sec, maxrss 55472.0 kB, maxvsize 814700.0 kB\n",
      "---\n",
      "1\n",
      ">ctg1 len=48154\n",
      "TAGCCAGCTGTCCGCTTGAGGATGCGGACACAACGAGAAAGGGGATAGTGCAGCAGCAGTGAAACCAACAGCACGTCGAAACGCTTGCTGCAACGCCAAA\n",
      "GGCGGTTAAGGTGGTAATGGATGAAACGAACAGAAAAGCCCACTGGACAGTCCGGCACTGACCGGAACGCCAACAGCACCAACCGCGCCAGGGAACAAAC\n",
      "AATACCCAGATTGCGAACACCGCTTTGTACTGGCCGCGATTGCAGATGTTATCGACGCGTCACCTGACGCACTGAATACGCTGAATGAACTCACGCAGCG\n",
      "CCGGAATGATCCAGATTTTGCTACCACCATGACTAACGCGCTTGCGGGTAAACAACCGAAGAATGCGACACTGACGGCGCTGGCAGGGCTTTCCACGGCG\n",
      "AAAAATAAATTACCGTATTTTGCGGAAATGATGCCGCCAGCCTGACTGAACTGACTCAGGTTGGCAGGGATATTCTGGCAAAAATTCCGTGCAGATGTTC\n",
      "TTGAATACCTTGGGGCCGGTGAGAATTCGGCCTTTCCGGCAGGTGCGCCGATCCGTGGCCATCAGATATCGTTCCGTCTGGCTACGTCCTGATGCAGGGC\n",
      "AGGCGTTTGACAAATCAGCCTACCCAAAACTTGCTGTCGCGTATCCATCGGGTGTGCTTCCTGATATGCGAGGCTGGACAATCAAGGGAAACCCGCCAGC\n",
      "GGTCGTGCTGTATTGTCTCAGGAACAGGATGGAATTAAGTCGCACACCCACAGTGCCAGTGCATCCGGTACGGATTTGGGGACGAAAACCACATCGTCGT\n",
      "TTGATTACGGGACGAAAACAACAGGCAGTTTCTGATTACGGCACCAAATCGACGAATAACACGGGGCTCATGCTCACAGTCTGAGCGGTTCAACAGGGCC\n"
     ]
    }
   ],
   "source": [
    "!wtdbg2 -x rs -g 48k -i Lambda.fastq -t4 -fo prefix\n",
    "# derive consensus\n",
    "!wtpoa-cns -t4 -i prefix.ctg.lay.gz -fo prefix.ctg.fa\n",
    "# polish consensus, not necessary if you want to polish the assemblies using other tools\n",
    "#minimap2 -t 4 -x map-ont -a prefix.ctg.fa reads.fa.gz\n",
    "#samtools view -Sb - >prefix.ctg.map.bam\n",
    "#samtools sort prefix.ctg.map.bam prefix.ctg.map.srt\n",
    "#samtools view prefix.ctg.map.srt.bam \n",
    "#wtpoa-cns -t 16 -d prefix.ctg.fa -i - -fo prefix.ctg.2nd.fa"
   ]
  },
  {
   "cell_type": "markdown",
   "metadata": {},
   "source": [
    "## Flye"
   ]
  },
  {
   "cell_type": "code",
   "execution_count": 19,
   "metadata": {
    "scrolled": true
   },
   "outputs": [
    {
     "name": "stdout",
     "output_type": "stream",
     "text": [
      "[2019-03-04 13:30:30] INFO: Starting Flye 2.4-release\n",
      "[2019-03-04 13:30:30] INFO: >>>STAGE: configure\n",
      "[2019-03-04 13:30:30] INFO: Configuring run\n",
      "[2019-03-04 13:30:30] INFO: Input genome size: 48000\n",
      "[2019-03-04 13:30:30] INFO: Estimated coverage: 1743\n",
      "[2019-03-04 13:30:30] WARNING: Expected read coverage is 1743, the assembly is not guaranteed to be optimal in this setting. Are you sure that the genome size was entered correctly?\n",
      "[2019-03-04 13:30:30] INFO: Reads N50/N90: 8327 / 2385\n",
      "[2019-03-04 13:30:30] INFO: Minimum overlap set to 2000\n",
      "[2019-03-04 13:30:30] INFO: Selected k-mer size: 15\n",
      "[2019-03-04 13:30:30] INFO: Using longest 100x reads for contig assembly\n",
      "[2019-03-04 13:30:30] INFO: >>>STAGE: assembly\n",
      "[2019-03-04 13:30:30] INFO: Assembling reads\n",
      "[2019-03-04 13:30:30] INFO: Reading sequences\n",
      "[2019-03-04 13:30:31] INFO: Generating solid k-mer index\n",
      "[2019-03-04 13:30:45] INFO: Counting kmers (1/2):\n",
      "0% 10% 20% 30% 40% 50% 60% 70% 80% 90% 100% \n",
      "[2019-03-04 13:30:45] INFO: Counting kmers (2/2):\n",
      "0% 10% 20% 30% 40% 50% 60% 70% 80% 90% 100% \n",
      "[2019-03-04 13:30:45] INFO: Filling index table\n",
      "0% 10% 20% 30% 40% 50% 60% 70% 80% 90% 100% \n",
      "[2019-03-04 13:30:45] INFO: Extending reads\n",
      "[2019-03-04 13:30:53] INFO: Overlap-based coverage: 90\n",
      "[2019-03-04 13:30:53] INFO: Median overlap divergence: 0.185818\n",
      "0% 10% 20% 30% 40% 50% 60% 70% 80% 90% 100% \n",
      "[2019-03-04 13:30:53] INFO: Assembled 1 draft contigs\n",
      "[2019-03-04 13:30:53] INFO: Generating contig sequences\n",
      "0% 10% 20% 30% 40% 50% 60% 70% 80% 90% 100% \n",
      "[2019-03-04 13:30:56] INFO: >>>STAGE: consensus\n",
      "[2019-03-04 13:30:56] INFO: Running Minimap2\n",
      "[2019-03-04 13:31:19] INFO: Computing consensus\n",
      "[2019-03-04 13:32:15] INFO: Alignment error rate: 0.236413404864\n",
      "[2019-03-04 13:32:15] INFO: >>>STAGE: repeat\n",
      "[2019-03-04 13:32:15] INFO: Building and resolving repeat graph\n",
      "[2019-03-04 13:32:15] INFO: Reading sequences\n",
      "[2019-03-04 13:32:15] INFO: Building repeat graph\n",
      "50% 100% \n",
      "[2019-03-04 13:32:30] INFO: Median overlap divergence: 0.112984\n",
      "[2019-03-04 13:32:30] INFO: Aligning reads to the graph\n",
      "0% 10% 20% 30% 40% 50% 60% 70% 80% 90% 100% \n",
      "[2019-03-04 13:33:18] INFO: Aligned read sequence: 73884051 / 77478863 (0.953603)\n",
      "[2019-03-04 13:33:18] INFO: Median overlap divergence: 0.129362\n",
      "[2019-03-04 13:33:18] INFO: Mean edge coverage: 828\n",
      "[2019-03-04 13:33:18] INFO: Resolving repeats\n",
      "[2019-03-04 13:33:18] INFO: >>>STAGE: trestle\n",
      "[2019-03-04 13:33:18] INFO: Simple unbridged repeats: 0\n",
      "[2019-03-04 13:33:18] INFO: Resolved: 0\n",
      "[2019-03-04 13:33:18] INFO: >>>STAGE: contigger\n",
      "[2019-03-04 13:33:18] INFO: Generating contigs\n",
      "[2019-03-04 13:33:18] INFO: Reading sequences\n",
      "[2019-03-04 13:33:19] INFO: Generated 1 contigs\n",
      "[2019-03-04 13:33:19] INFO: >>>STAGE: polishing\n",
      "[2019-03-04 13:33:19] INFO: Polishing genome (1/1)\n",
      "[2019-03-04 13:33:19] INFO: Running minimap2\n",
      "[2019-03-04 13:33:30] INFO: Separating alignment into bubbles\n",
      "[2019-03-04 13:34:37] INFO: Alignment error rate: 0.190479721865\n",
      "[2019-03-04 13:34:37] INFO: Correcting bubbles\n",
      "0% 10% 20% 30% 40% 50% 60% 70% 80% 90% 100% \n",
      "[2019-03-04 13:34:43] INFO: >>>STAGE: finalize\n",
      "[2019-03-04 13:34:43] INFO: Assembly statistics:\n",
      "\n",
      "\tTotal length:\t85693\n",
      "\tContigs:\t1\n",
      "\tScaffolds:\t1\n",
      "\tScaffolds N50:\t85693\n",
      "\tLargest scf:\t85693\n",
      "\tMean coverage:\t1004\n",
      "\n",
      "[2019-03-04 13:34:43] INFO: Final assembly: /home/bio/Lambda-Flye/scaffolds.fasta\n"
     ]
    }
   ],
   "source": [
    "!flye --nano-raw Lambda.fastq --out-dir Lambda-Flye --genome-size 48k  --threads 4 --asm-coverage 100"
   ]
  },
  {
   "cell_type": "markdown",
   "metadata": {},
   "source": [
    "# OLC assemblers"
   ]
  },
  {
   "cell_type": "code",
   "execution_count": null,
   "metadata": {},
   "outputs": [],
   "source": [
    "!canu -p Lambda-4March19 -d Lambda-1 genomeSize=48k -nanopore-raw Lambda.fastq"
   ]
  },
  {
   "cell_type": "code",
   "execution_count": 27,
   "metadata": {
    "scrolled": false
   },
   "outputs": [],
   "source": [
    "!canu -p Lambda-4March19-tuned -d Lambda-2 genomeSize=48k corOutCoverage=1000 corErrorRate=0.12 -nanopore-raw Lambda.fastq "
   ]
  },
  {
   "cell_type": "code",
   "execution_count": 24,
   "metadata": {},
   "outputs": [
    {
     "name": "stdout",
     "output_type": "stream",
     "text": [
      "n\tn:500\tL50\tmin\tN80\tN50\tN20\tE-size\tmax\tsum\tname\n",
      "1\t1\t1\t49883\t49883\t49883\t49883\t49883\t49883\t49883\tLambda-minisuite.fa\n",
      "n\tn:500\tL50\tmin\tN80\tN50\tN20\tE-size\tmax\tsum\tname\n",
      "1\t1\t1\t48154\t48154\t48154\t48154\t48154\t48154\t48154\tLambda-wtdbg2.fa\n",
      "n\tn:500\tL50\tmin\tN80\tN50\tN20\tE-size\tmax\tsum\tname\n",
      "1\t1\t1\t85693\t85693\t85693\t85693\t85693\t85693\t85693\tLambda-Flye.fasta\n"
     ]
    }
   ],
   "source": [
    "!/usr/lib/abyss/abyss-fac Lambda-minisuite.fa\n",
    "!/usr/lib/abyss/abyss-fac Lambda-wtdbg2.fa\n",
    "!/usr/lib/abyss/abyss-fac Lambda-Flye.fasta"
   ]
  },
  {
   "cell_type": "markdown",
   "metadata": {},
   "source": [
    "#  Homework"
   ]
  },
  {
   "cell_type": "markdown",
   "metadata": {},
   "source": [
    "1.\n",
    "https://github.com/HingeAssembler/HINGE\n",
    "\n",
    "2.\n",
    "https://github.com/rrwick/Unicycler\n",
    "\n",
    "3.\n",
    "Assembly metrics:\n",
    "a. What the kwanza is a N50? \n",
    "b. Tools for assembly metrics?\n",
    "c. BUSCO?"
   ]
  }
 ],
 "metadata": {
  "kernelspec": {
   "display_name": "Python 3",
   "language": "python",
   "name": "python3"
  },
  "language_info": {
   "codemirror_mode": {
    "name": "ipython",
    "version": 3
   },
   "file_extension": ".py",
   "mimetype": "text/x-python",
   "name": "python",
   "nbconvert_exporter": "python",
   "pygments_lexer": "ipython3",
   "version": "3.5.4"
  }
 },
 "nbformat": 4,
 "nbformat_minor": 2
}
